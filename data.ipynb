{
 "cells": [
  {
   "cell_type": "code",
   "execution_count": 1,
   "metadata": {},
   "outputs": [],
   "source": [
    "import numpy as np\n",
    "import seaborn as sns\n",
    "import matplotlib.pyplot as plt\n",
    "import pandas as pd\n",
    "\n",
    "# Load data\n",
    "csv_features = \"./acsincome_ca_features.csv\"\n",
    "csv_labels = \"./acsincome_ca_labels.csv\"\n",
    "features = pd.read_csv(csv_features)\n",
    "labels = pd.read_csv(csv_labels)"
   ]
  },
  {
   "cell_type": "markdown",
   "metadata": {},
   "source": [
    "# Légende\n",
    "\n",
    "AGEP : Age\n",
    "\n",
    "COW : Class of Worker\n",
    "\n",
    "SCHL : Niveau d’éducation\n",
    "\n",
    "MAR : Statut marital\n",
    "\n",
    "OCCP : Domaine professionnel\n",
    "\n",
    "POBP : lieu de naissance\n",
    "\n",
    "RELP : Relationship\n",
    "\n",
    "WKHP : heures travaillées par semaine dans les 12 derniers mois.\n",
    "\n",
    "Sex : 1 Male, 2 Female\n",
    "\n",
    "RACIP : race code, ethnie"
   ]
  },
  {
   "cell_type": "markdown",
   "metadata": {},
   "source": [
    "# Exploratory Data Analysis"
   ]
  },
  {
   "cell_type": "code",
   "execution_count": 7,
   "metadata": {},
   "outputs": [
    {
     "name": "stdout",
     "output_type": "stream",
     "text": [
      "features.shape :\n",
      "(195665, 10)\n",
      "labels.value_counts :\n",
      "PINCP\n",
      "False    115330\n",
      "True      80335\n",
      "Name: count, dtype: int64\n"
     ]
    }
   ],
   "source": [
    "\n",
    "# print(features.head(50))\n",
    "print(\"features.shape :\")\n",
    "print(features.shape)\n",
    "\n",
    "print(\"labels.value_counts :\")\n",
    "print(labels.value_counts())\n",
    "\n",
    "# plt.figure(figsize=(20,10))\n",
    "# sns.heatmap(features.isna())\n",
    "# plt.show()\n"
   ]
  },
  {
   "cell_type": "code",
   "execution_count": 7,
   "metadata": {},
   "outputs": [
    {
     "name": "stdout",
     "output_type": "stream",
     "text": [
      "    PINCP\n",
      "0   False\n",
      "1   False\n",
      "2   False\n",
      "3   False\n",
      "4   False\n",
      "5   False\n",
      "6   False\n",
      "7   False\n",
      "8   False\n",
      "9   False\n",
      "10  False\n",
      "11  False\n",
      "12  False\n",
      "13  False\n",
      "14  False\n",
      "15  False\n",
      "16  False\n",
      "17  False\n",
      "18  False\n",
      "19  False\n",
      "20  False\n",
      "21  False\n",
      "22  False\n",
      "23  False\n",
      "24  False\n"
     ]
    }
   ],
   "source": [
    "# print(features.head(25))\n",
    "print(labels.head(25))"
   ]
  },
  {
   "cell_type": "code",
   "execution_count": 2,
   "metadata": {},
   "outputs": [
    {
     "name": "stderr",
     "output_type": "stream",
     "text": [
      "/home/mecaliff/.conda/envs/appsupervise-tp/lib/python3.11/site-packages/seaborn/_oldcore.py:1119: FutureWarning: use_inf_as_na option is deprecated and will be removed in a future version. Convert inf values to NaN before operating instead.\n",
      "  with pd.option_context('mode.use_inf_as_na', True):\n",
      "/home/mecaliff/.conda/envs/appsupervise-tp/lib/python3.11/site-packages/seaborn/_oldcore.py:1119: FutureWarning: use_inf_as_na option is deprecated and will be removed in a future version. Convert inf values to NaN before operating instead.\n",
      "  with pd.option_context('mode.use_inf_as_na', True):\n"
     ]
    }
   ],
   "source": [
    "sns.set_theme(style=\"ticks\")\n",
    "\n",
    "# sns.displot(data=features, x=\"AGEP\", y=\"MAR\", kind=\"kde\")\n",
    "# sns.displot(data=pd.concat([features[\"AGEP\"], labels], axis=1), x=\"AGEP\", y=\"PINCP\")\n",
    "sns.displot(data=pd.concat([features[\"AGEP\"], labels], axis=1), x=\"AGEP\", y=\"PINCP\", kind=\"kde\")\n",
    "\n",
    "# répartition par label vrai ou faux\n",
    "# sns.displot(data=pd.concat([features[\"AGEP\"], labels], axis=1), x=\"AGEP\", hue=\"PINCP\", kind=\"kde\")\n",
    "\n",
    "for m in features.columns:\n",
    "    # plt.figure()\n",
    "    # sns.histplot(features[m], kde=True)\n",
    "    # sns.displot(data=pd.concat([features[m], labels], axis=1), x=m, hue=\"PINCP\", kind=\"kde\")\n",
    "    None\n",
    "    "
   ]
  },
  {
   "cell_type": "code",
   "execution_count": 12,
   "metadata": {},
   "outputs": [
    {
     "data": {
      "text/plain": [
       "SEX\n",
       "1.0    103311\n",
       "2.0     92354\n",
       "Name: count, dtype: int64"
      ]
     },
     "execution_count": 12,
     "metadata": {},
     "output_type": "execute_result"
    }
   ],
   "source": [
    "features[\"SEX\"].value_counts()"
   ]
  }
 ],
 "metadata": {
  "kernelspec": {
   "display_name": "appsupervise-tp",
   "language": "python",
   "name": "python3"
  },
  "language_info": {
   "codemirror_mode": {
    "name": "ipython",
    "version": 3
   },
   "file_extension": ".py",
   "mimetype": "text/x-python",
   "name": "python",
   "nbconvert_exporter": "python",
   "pygments_lexer": "ipython3",
   "version": "3.11.9"
  }
 },
 "nbformat": 4,
 "nbformat_minor": 2
}
