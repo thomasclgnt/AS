{
 "cells": [
  {
   "cell_type": "code",
   "execution_count": 1,
   "metadata": {},
   "outputs": [],
   "source": [
    "import numpy as np\n",
    "import seaborn as sns\n",
    "import matplotlib.pyplot as plt\n",
    "import pandas as pd\n",
    "from sklearn.utils import shuffle\n",
    "from sklearn.preprocessing import StandardScaler\n",
    "from sklearn.model_selection import train_test_split\n",
    "\n",
    "# Load data\n",
    "csv_features = \"./acsincome_ca_features.csv\"\n",
    "csv_labels = \"./acsincome_ca_labels.csv\"\n",
    "features = pd.read_csv(csv_features)\n",
    "labels = pd.read_csv(csv_labels)\n",
    "\n",
    "# Separating features and labels, shuffling\n",
    "X_all = features\n",
    "Y_all = labels\n",
    "X_all,Y_all = shuffle(X_all,Y_all, random_state=0)\n",
    "\n",
    "# Only use first N samples to limit training time\n",
    "sample = 0.2\n",
    "num_samples = int(len(X_all)*sample)\n",
    "X,Y = X_all[:num_samples], Y_all[:num_samples]\n",
    "\n",
    "# Scaler for data standardization\n",
    "scaler = StandardScaler()\n",
    "\n",
    "# Separate train and test sets\n",
    "X_train, X_test, Y_train, Y_test = train_test_split(X,Y, random_state=0, train_size=0.8)\n",
    "\n",
    "X_train = scaler.fit_transform(X_train) "
   ]
  },
  {
   "cell_type": "markdown",
   "metadata": {},
   "source": [
    "# Random Forest"
   ]
  },
  {
   "cell_type": "markdown",
   "metadata": {},
   "source": [
    "### Modèle"
   ]
  },
  {
   "cell_type": "code",
   "execution_count": null,
   "metadata": {},
   "outputs": [],
   "source": []
  },
  {
   "cell_type": "code",
   "execution_count": 2,
   "metadata": {},
   "outputs": [
    {
     "name": "stderr",
     "output_type": "stream",
     "text": [
      "/home/mecaliff/.conda/envs/appsupervise-tp/lib/python3.11/site-packages/sklearn/base.py:1474: DataConversionWarning: A column-vector y was passed when a 1d array was expected. Please change the shape of y to (n_samples,), for example using ravel().\n",
      "  return fit_method(estimator, *args, **kwargs)\n"
     ]
    },
    {
     "name": "stdout",
     "output_type": "stream",
     "text": [
      "Modèle avec paramètres par défaut 0.4397598058004344\n"
     ]
    },
    {
     "name": "stderr",
     "output_type": "stream",
     "text": [
      "/home/mecaliff/.conda/envs/appsupervise-tp/lib/python3.11/site-packages/sklearn/base.py:486: UserWarning: X has feature names, but RandomForestClassifier was fitted without feature names\n",
      "  warnings.warn(\n"
     ]
    }
   ],
   "source": [
    "from sklearn.ensemble import RandomForestClassifier\n",
    "\n",
    "RF_model_def = RandomForestClassifier()\n",
    "\n",
    "RF_model_def.fit(X_train, Y_train)\n",
    "print(\"Modèle avec paramètres par défaut\", RF_model_def.score(X_test, Y_test))"
   ]
  },
  {
   "cell_type": "markdown",
   "metadata": {},
   "source": [
    "Score modèle défaut : 10% : 0.5524\n",
    " \n",
    "Score modèle défaut : 20% : 0.5868\n",
    "\n",
    "Score modèle défaut : 50% : 0.5874\n",
    "\n",
    "Score modèle défaut : 75% : 0.5845\n",
    "\n",
    "Score modèle défaut : 100% : 0.5896\n",
    "\n",
    "Paramètres défaut : param_def ={\n",
    "    n_estimators : 100,\n",
    "    max_depth : None,\n",
    "    min_samples_split : 2,\n",
    "    min_samples_leaf : 1\n",
    "} "
   ]
  },
  {
   "cell_type": "markdown",
   "metadata": {},
   "source": [
    "## 1. Validation croisée"
   ]
  },
  {
   "cell_type": "code",
   "execution_count": 3,
   "metadata": {},
   "outputs": [
    {
     "name": "stdout",
     "output_type": "stream",
     "text": [
      "Modèle avec paramètres 1 0.5900089434010477\n"
     ]
    }
   ],
   "source": [
    "import warnings\n",
    "warnings.filterwarnings(\"ignore\")\n",
    "#\n",
    "# param_def ={\n",
    "#     n_estimators : 100,\n",
    "#     max_depth : None,\n",
    "#     min_samples_split : 2,\n",
    "#     min_samples_leaf : 1\n",
    "# } \n",
    "RF_model = RandomForestClassifier(n_estimators=500, max_depth=100,\n",
    "                        min_samples_split=40, min_samples_leaf=15)\n",
    "\n",
    "RF_model_def.fit(X_train, Y_train)\n",
    "print(\"Modèle avec paramètres 1\", RF_model_def.score(X_test, Y_test))"
   ]
  },
  {
   "cell_type": "markdown",
   "metadata": {},
   "source": [
    "## 2. Evaluation de la qualité du modèle en utilisant différentes métriques : accuracy, classificiation_report, confusion_matrix"
   ]
  },
  {
   "cell_type": "code",
   "execution_count": 32,
   "metadata": {},
   "outputs": [
    {
     "name": "stdout",
     "output_type": "stream",
     "text": [
      "1\n",
      "2\n",
      "3\n",
      "4\n"
     ]
    }
   ],
   "source": [
    "for t in range(1, 5) :\n",
    "    print(t)"
   ]
  },
  {
   "cell_type": "markdown",
   "metadata": {},
   "source": [
    "## 3. Recherche des meilleurs hyperparamètres => Gridsearchcv"
   ]
  },
  {
   "cell_type": "markdown",
   "metadata": {},
   "source": [
    "Sur un pourcentage croissant des données"
   ]
  },
  {
   "cell_type": "markdown",
   "metadata": {},
   "source": []
  },
  {
   "cell_type": "code",
   "execution_count": 4,
   "metadata": {},
   "outputs": [
    {
     "name": "stdout",
     "output_type": "stream",
     "text": [
      "0.8143169191179129\n",
      "{'max_depth': None, 'min_samples_leaf': 4, 'min_samples_split': 40, 'n_estimators': 100}\n"
     ]
    }
   ],
   "source": [
    "from sklearn.model_selection import GridSearchCV\n",
    "\n",
    "param_grid ={\n",
    "    'n_estimators' :[100, 200, 300, 500],\n",
    "    'max_depth' : [None, 30, 40, 50, 100],\n",
    "    'min_samples_split' :[10, 20, 30, 40],\n",
    "    'min_samples_leaf' :[4, 6, 8, 15]   \n",
    "} \n",
    "grid= GridSearchCV(estimator= RandomForestClassifier(random_state=0),\n",
    "                   param_grid=param_grid, scoring='accuracy', cv=5)\n",
    "\n",
    "grid.fit(X_train, Y_train)\n",
    "\n",
    "print(grid.best_score_)\n",
    "print(grid.best_params_)"
   ]
  },
  {
   "cell_type": "markdown",
   "metadata": {},
   "source": [
    "0.8143169191179129\n",
    "\n",
    "{'max_depth': None, 'min_samples_leaf': 4, 'min_samples_split': 40, 'n_estimators': 100}"
   ]
  }
 ],
 "metadata": {
  "kernelspec": {
   "display_name": "appsupervise-tp",
   "language": "python",
   "name": "python3"
  },
  "language_info": {
   "codemirror_mode": {
    "name": "ipython",
    "version": 3
   },
   "file_extension": ".py",
   "mimetype": "text/x-python",
   "name": "python",
   "nbconvert_exporter": "python",
   "pygments_lexer": "ipython3",
   "version": "3.11.9"
  }
 },
 "nbformat": 4,
 "nbformat_minor": 2
}
