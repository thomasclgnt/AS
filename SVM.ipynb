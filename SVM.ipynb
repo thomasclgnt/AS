{
 "cells": [
  {
   "cell_type": "code",
   "execution_count": 2,
   "metadata": {},
   "outputs": [],
   "source": [
    "import numpy as np\n",
    "import seaborn as sns\n",
    "import matplotlib.pyplot as plt\n",
    "import pandas as pd\n",
    "from sklearn.utils import shuffle\n",
    "from sklearn.preprocessing import StandardScaler\n",
    "from sklearn.model_selection import train_test_split\n",
    "\n",
    "# Load data\n",
    "csv_features = \"/home/mecaliff/Bureau/5A/Apprentissage/AS/acsincome_ca_features.csv\"\n",
    "csv_labels = \"/home/mecaliff/Bureau/5A/Apprentissage/AS/acsincome_ca_labels.csv\"\n",
    "features = pd.read_csv(csv_features)\n",
    "labels = pd.read_csv(csv_labels)\n",
    "\n",
    "# Separating features and labels, shuffling\n",
    "X_all = features\n",
    "Y_all = labels\n",
    "X_all,Y_all = shuffle(X_all,Y_all, random_state=0)\n",
    "\n",
    "# Only use first N samples to limit training time\n",
    "num_samples = int(len(X_all)*0.01)\n",
    "X,Y = X_all[:num_samples], Y_all[:num_samples]\n",
    "\n",
    "# Scaler for data standardization\n",
    "scaler = StandardScaler()\n",
    "\n",
    "# Separate train and test sets\n",
    "X_train, X_test, Y_train, Y_test = train_test_split(X,Y, random_state=0, train_size=0.8)\n",
    "X_train = scaler.fit_transform(X_train) "
   ]
  },
  {
   "cell_type": "markdown",
   "metadata": {},
   "source": [
    "On ne standardize que le set d'entraînement des features (X_train) car on ne touche pas au set de test et les labels (Y) correspondant à des booléens n'ont pas besoin d'être standardisés."
   ]
  },
  {
   "cell_type": "code",
   "execution_count": null,
   "metadata": {},
   "outputs": [],
   "source": []
  }
 ],
 "metadata": {
  "kernelspec": {
   "display_name": "appsupervise-tp",
   "language": "python",
   "name": "python3"
  },
  "language_info": {
   "codemirror_mode": {
    "name": "ipython",
    "version": 3
   },
   "file_extension": ".py",
   "mimetype": "text/x-python",
   "name": "python",
   "nbconvert_exporter": "python",
   "pygments_lexer": "ipython3",
   "version": "3.11.9"
  }
 },
 "nbformat": 4,
 "nbformat_minor": 2
}
